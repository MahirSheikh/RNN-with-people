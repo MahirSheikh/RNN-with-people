{
 "cells": [
  {
   "cell_type": "code",
   "execution_count": 14,
   "metadata": {},
   "outputs": [],
   "source": [
    "from pandas import read_csv\n",
    "import numpy as np\n",
    "from keras.models import Sequential\n",
    "from keras.layers import Dense, SimpleRNN\n",
    "from sklearn.preprocessing import MinMaxScaler\n",
    "from sklearn.metrics import mean_squared_error\n",
    "import math\n",
    "import matplotlib.pyplot as pl\n",
    "import tensorflow as tf"
   ]
  },
  {
   "cell_type": "code",
   "execution_count": 15,
   "metadata": {},
   "outputs": [],
   "source": [
    "## Libraries\n",
    "\n",
    "import tensorflow as tf\n",
    "import ssl\n",
    "import urllib.request\n",
    "\n",
    "model = tf.keras.models.Sequential()\n",
    "Dense = tf.keras.layers.Dense\n",
    "Dropout = tf.keras.layers.Dropout\n",
    "LSTM = tf.keras.layers.LSTM\n",
    "\n",
    "## Dataset\n",
    "mnist_data = tf.keras.datasets.mnist # mnist is a dataset of 28x28 images of handwritten digits and their labels with 60,000 rows of data\n",
    "\n",
    "## Create train and test data\n",
    "# (x_train, y_train),(x_test, y_test) = mnist_data.load_data()\n",
    "# load mnistdata to train valadaion and test\n",
    "(x_train, y_train),(x_test, y_test) = mnist_data.load_data()\n",
    "\n",
    "x_train = x_train/255.0 # Normalize training data features\n",
    "x_test = x_test/255.0 # Normalize training data labels\n",
    "\n"
   ]
  },
  {
   "cell_type": "code",
   "execution_count": 16,
   "metadata": {},
   "outputs": [],
   "source": [
    "# split the train data to validate and train\n",
    "from sklearn.model_selection import train_test_split\n",
    "x_train, x_val, y_train, y_val = train_test_split(x_train, y_train, test_size=0.2, random_state=42)"
   ]
  },
  {
   "cell_type": "markdown",
   "metadata": {},
   "source": [
    "# VGG 16"
   ]
  },
  {
   "cell_type": "code",
   "execution_count": 17,
   "metadata": {},
   "outputs": [],
   "source": [
    "from keras.applications import VGG16\n",
    "from keras import models\n",
    "from keras import layers\n",
    "from keras import optimizers\n"
   ]
  },
  {
   "cell_type": "markdown",
   "metadata": {},
   "source": [
    "# matching the data size to the model requirements"
   ]
  },
  {
   "cell_type": "code",
   "execution_count": 18,
   "metadata": {},
   "outputs": [
    {
     "name": "stdout",
     "output_type": "stream",
     "text": [
      "(48000, 28, 28)\n"
     ]
    },
    {
     "data": {
      "text/plain": [
       "(48000, 32, 32)"
      ]
     },
     "execution_count": 18,
     "metadata": {},
     "output_type": "execute_result"
    },
    {
     "data": {
      "image/png": "[encoded data removed]",
      "text/plain": [
       "<Figure size 432x288 with 1 Axes>"
      ]
     },
     "metadata": {
      "needs_background": "light"
     },
     "output_type": "display_data"
    }
   ],
   "source": [
    "x_train[1]\n",
    "print(x_train.shape)\n",
    "#plot image\n",
    "pl.imshow(x_train[1])\n",
    "# add padding all images in x_tran and X_test\n",
    "newX_train = np.zeros((x_train.shape[0], 32, 32))\n",
    "newX_test = np.zeros((x_test.shape[0], 32, 32))\n",
    "newX_val = np.zeros((x_val.shape[0], 32, 32))\n",
    "\n",
    "for i in range(x_train.shape[0]):\n",
    "    newX_train[i, 2:30, 2:30] = x_train[i,:,:]\n",
    "for i in range(x_test.shape[0]):\n",
    "    newX_test[i, 2:30, 2:30] = x_test[i,:,:]\n",
    "for i in range(x_val.shape[0]):\n",
    "    newX_val[i, 2:30, 2:30] = x_val[i,:,:]\n",
    "\n",
    "\n",
    "# newX_train = np.zeros((60000, 32, 32))\n",
    "# newX_test = np.zeros((10000, 32, 32))\n",
    "# for i in range(60000):\n",
    "#     newX_train[i, 2:30, 2:30] = x_train[i, :, :]\n",
    "# for i in range(10000):\n",
    "#     newX_test[i, 2:30, 2:30] = x_test[i, :, :]\n",
    "# newX_train[1].shape\n",
    "# plot image\n",
    "pl.imshow(newX_train[5000])\n",
    "# plot shape\n",
    "newX_train.shape\n",
    "\n"
   ]
  },
  {
   "cell_type": "code",
   "execution_count": 19,
   "metadata": {},
   "outputs": [
    {
     "name": "stdout",
     "output_type": "stream",
     "text": [
      "Model: \"sequential_5\"\n",
      "_________________________________________________________________\n",
      " Layer (type)                Output Shape              Param #   \n",
      "=================================================================\n",
      " vgg16 (Functional)          (None, 1, 1, 512)         14713536  \n",
      "                                                                 \n",
      " flatten_2 (Flatten)         (None, 512)               0         \n",
      "                                                                 \n",
      " dense_4 (Dense)             (None, 256)               131328    \n",
      "                                                                 \n",
      " dense_5 (Dense)             (None, 10)                2570      \n",
      "                                                                 \n",
      "=================================================================\n",
      "Total params: 14,847,434\n",
      "Trainable params: 14,847,434\n",
      "Non-trainable params: 0\n",
      "_________________________________________________________________\n"
     ]
    },
    {
     "name": "stderr",
     "output_type": "stream",
     "text": [
      "/Library/Frameworks/Python.framework/Versions/3.10/lib/python3.10/site-packages/keras/optimizers/optimizer_v2/rmsprop.py:135: UserWarning: The `lr` argument is deprecated, use `learning_rate` instead.\n",
      "  super(RMSprop, self).__init__(name, **kwargs)\n"
     ]
    }
   ],
   "source": [
    "vgg = VGG16(weights=None, include_top=False, input_shape=(32, 32, 1))\n",
    "model = models.Sequential()\n",
    "model.add(vgg)\n",
    "model.add(layers.Flatten())\n",
    "model.add(layers.Dense(256, activation='relu'))\n",
    "model.add(layers.Dense(10, activation='softmax'))\n",
    "model.summary()\n",
    "\n",
    "model.compile(loss='sparse_categorical_crossentropy', optimizer=optimizers.RMSprop(lr=2e-5), metrics=['acc'])\n"
   ]
  },
  {
   "cell_type": "code",
   "execution_count": 21,
   "metadata": {},
   "outputs": [
    {
     "name": "stdout",
     "output_type": "stream",
     "text": [
      "(48000, 32, 32)\n",
      "(10000, 32, 32)\n",
      "(12000, 32, 32)\n",
      "(48000,)\n",
      "(10000,)\n",
      "(12000,)\n"
     ]
    }
   ],
   "source": [
    "print(newX_train.shape)\n",
    "print(newX_test.shape)\n",
    "print(newX_val.shape)\n",
    "print(y_train.shape)\n",
    "print(y_test.shape)\n",
    "print(y_val.shape)"
   ]
  },
  {
   "cell_type": "code",
   "execution_count": 22,
   "metadata": {},
   "outputs": [
    {
     "name": "stdout",
     "output_type": "stream",
     "text": [
      "Epoch 1/4\n",
      "750/750 [==============================] - 436s 582ms/step - loss: 0.1885 - acc: 0.9408 - val_loss: 0.1146 - val_acc: 0.9628\n",
      "Epoch 2/4\n",
      "750/750 [==============================] - 1397s 2s/step - loss: 0.1035 - acc: 0.9679 - val_loss: 0.0923 - val_acc: 0.9696\n",
      "Epoch 3/4\n",
      "750/750 [==============================] - 439s 585ms/step - loss: 0.0735 - acc: 0.9767 - val_loss: 0.0541 - val_acc: 0.9833\n",
      "Epoch 4/4\n",
      "750/750 [==============================] - 440s 587ms/step - loss: 0.0560 - acc: 0.9820 - val_loss: 0.0494 - val_acc: 0.9845\n"
     ]
    },
    {
     "data": {
      "text/plain": [
       "<keras.callbacks.History at 0x28a5b9c30>"
      ]
     },
     "execution_count": 22,
     "metadata": {},
     "output_type": "execute_result"
    }
   ],
   "source": [
    "\n",
    "model.fit(newX_train, y_train, epochs=4, batch_size=64, validation_data=(newX_val, y_val))"
   ]
  },
  {
   "cell_type": "code",
   "execution_count": 23,
   "metadata": {},
   "outputs": [
    {
     "name": "stdout",
     "output_type": "stream",
     "text": [
      "313/313 [==============================] - 21s 67ms/step - loss: 0.0425 - acc: 0.9858\n"
     ]
    },
    {
     "data": {
      "text/plain": [
       "[0.04253426939249039, 0.98580002784729]"
      ]
     },
     "execution_count": 23,
     "metadata": {},
     "output_type": "execute_result"
    }
   ],
   "source": [
    "model.evaluate(newX_test, y_test)"
   ]
  }
 ],
 "metadata": {
  "kernelspec": {
   "display_name": "Python 3.10.4 64-bit",
   "language": "python",
   "name": "python3"
  },
  "language_info": {
   "codemirror_mode": {
    "name": "ipython",
    "version": 3
   },
   "file_extension": ".py",
   "mimetype": "text/x-python",
   "name": "python",
   "nbconvert_exporter": "python",
   "pygments_lexer": "ipython3",
   "version": "3.10.4"
  },
  "orig_nbformat": 4,
  "vscode": {
   "interpreter": {
    "hash": "aee8b7b246df8f9039afb4144a1f6fd8d2ca17a180786b69acc140d282b71a49"
   }
  }
 },
 "nbformat": 4,
 "nbformat_minor": 2
}
