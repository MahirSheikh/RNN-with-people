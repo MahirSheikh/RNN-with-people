{
 "cells": [
  {
   "cell_type": "code",
   "execution_count": 50,
   "metadata": {},
   "outputs": [],
   "source": [
    "from pandas import read_csv\n",
    "import numpy as np\n",
    "from keras.models import Sequential\n",
    "from keras.layers import Dense, SimpleRNN\n",
    "from sklearn.preprocessing import MinMaxScaler\n",
    "from sklearn.metrics import mean_squared_error\n",
    "import math\n",
    "import matplotlib.pyplot as pl\n",
    "import tensorflow as tf"
   ]
  },
  {
   "cell_type": "code",
   "execution_count": 51,
   "metadata": {},
   "outputs": [],
   "source": [
    "## Libraries\n",
    "\n",
    "import tensorflow as tf\n",
    "import ssl\n",
    "import urllib.request\n",
    "\n",
    "model = tf.keras.models.Sequential()\n",
    "Dense = tf.keras.layers.Dense\n",
    "Dropout = tf.keras.layers.Dropout\n",
    "LSTM = tf.keras.layers.LSTM\n",
    "\n",
    "## Dataset\n",
    "mnist_data = tf.keras.datasets.mnist # mnist is a dataset of 28x28 images of handwritten digits and their labels with 60,000 rows of data\n",
    "\n",
    "## Create train and test data\n",
    "(x_train, y_train),(x_test, y_test) = mnist_data.load_data()\n",
    "\n",
    "x_train = x_train/255.0 # Normalize training data features\n",
    "x_test = x_test/255.0 # Normalize training data labels\n",
    "\n"
   ]
  },
  {
   "cell_type": "code",
   "execution_count": 52,
   "metadata": {},
   "outputs": [
    {
     "data": {
      "text/plain": [
       "(60000,)"
      ]
     },
     "execution_count": 52,
     "metadata": {},
     "output_type": "execute_result"
    }
   ],
   "source": [
    "y_train.shape"
   ]
  },
  {
   "cell_type": "markdown",
   "metadata": {},
   "source": [
    "## ***lstm***"
   ]
  },
  {
   "cell_type": "code",
   "execution_count": 53,
   "metadata": {},
   "outputs": [
    {
     "name": "stdout",
     "output_type": "stream",
     "text": [
      "Epoch 1/4\n"
     ]
    },
    {
     "name": "stderr",
     "output_type": "stream",
     "text": [
      "/Library/Frameworks/Python.framework/Versions/3.10/lib/python3.10/site-packages/keras/optimizers/optimizer_v2/adam.py:110: UserWarning: The `lr` argument is deprecated, use `learning_rate` instead.\n",
      "  super(Adam, self).__init__(name, **kwargs)\n"
     ]
    },
    {
     "name": "stdout",
     "output_type": "stream",
     "text": [
      "1500/1500 [==============================] - 178s 118ms/step - loss: 0.9948 - accuracy: 0.6675 - val_loss: 0.3176 - val_accuracy: 0.8999\n",
      "Epoch 2/4\n",
      "1500/1500 [==============================] - 180s 120ms/step - loss: 0.3214 - accuracy: 0.9039 - val_loss: 0.1568 - val_accuracy: 0.9529\n",
      "Epoch 3/4\n",
      "1500/1500 [==============================] - 180s 120ms/step - loss: 0.2035 - accuracy: 0.9422 - val_loss: 0.1410 - val_accuracy: 0.9577\n",
      "Epoch 4/4\n",
      "1500/1500 [==============================] - 179s 119ms/step - loss: 0.1593 - accuracy: 0.9557 - val_loss: 0.1076 - val_accuracy: 0.9681\n"
     ]
    },
    {
     "data": {
      "text/plain": [
       "<keras.callbacks.History at 0x2e6fe66b0>"
      ]
     },
     "execution_count": 53,
     "metadata": {},
     "output_type": "execute_result"
    }
   ],
   "source": [
    "# The images are 28x28 pixels of unassigned integers in the range of 0 to 255. The above #normalization code is not necessary and can still be passed on to compile. \n",
    "# However, the #accuracy will be much worse of at around 20% best case scenario and loss at over 90%. The #training time will also increase.\n",
    "\n",
    "model.add(LSTM(256, activation='relu', return_sequences=True))\n",
    "model.add(Dropout(0.2))\n",
    "model.add(LSTM(256, activation='relu'))\n",
    "model.add(Dropout(0.1))\n",
    "model.add(Dense(32, activation='relu'))\n",
    "model.add(Dropout(0.2))\n",
    "model.add(Dense(10, activation='softmax'))\n",
    "\n",
    "optimizer = tf.keras.optimizers.Adam(lr=1e-4, decay=1e-6)\n",
    "\n",
    "# Compile model\n",
    "model.compile(\n",
    "   loss='sparse_categorical_crossentropy',\n",
    "   optimizer=optimizer,\n",
    "   metrics=['accuracy'],\n",
    ")\n",
    "\n",
    "# The specification of loss=’sparse_categorical_crossentropy’ is very important here as our targets are # integers and not one-hot encoded categories.\n",
    "model.fit(x_train,\n",
    "   y_train,\n",
    "   epochs=4,\n",
    "   validation_split = 0.2)"
   ]
  },
  {
   "cell_type": "code",
   "execution_count": 54,
   "metadata": {},
   "outputs": [
    {
     "name": "stdout",
     "output_type": "stream",
     "text": [
      "313/313 [==============================] - 15s 47ms/step - loss: 0.1023 - accuracy: 0.9689\n"
     ]
    },
    {
     "data": {
      "text/plain": [
       "[0.1022627130150795, 0.9689000248908997]"
      ]
     },
     "execution_count": 54,
     "metadata": {},
     "output_type": "execute_result"
    }
   ],
   "source": [
    "model.evaluate(x_test, y_test)\n"
   ]
  },
  {
   "cell_type": "code",
   "execution_count": 55,
   "metadata": {},
   "outputs": [
    {
     "name": "stdout",
     "output_type": "stream",
     "text": [
      "(10000, 28, 28)\n",
      "(10000,)\n",
      "(60000, 28, 28)\n",
      "(60000,)\n"
     ]
    }
   ],
   "source": [
    "print(x_test.shape)\n",
    "print(y_test.shape)\n",
    "\n",
    "print(x_train.shape)\n",
    "print(y_train.shape)"
   ]
  },
  {
   "cell_type": "markdown",
   "metadata": {},
   "source": [
    "# simple RNN"
   ]
  },
  {
   "cell_type": "code",
   "execution_count": 59,
   "metadata": {},
   "outputs": [
    {
     "name": "stderr",
     "output_type": "stream",
     "text": [
      "/Library/Frameworks/Python.framework/Versions/3.10/lib/python3.10/site-packages/keras/optimizers/optimizer_v2/rmsprop.py:135: UserWarning: The `lr` argument is deprecated, use `learning_rate` instead.\n",
      "  super(RMSprop, self).__init__(name, **kwargs)\n"
     ]
    }
   ],
   "source": [
    "# simple rnn\n",
    "from tensorflow import keras\n",
    "from keras import layers\n",
    "model = keras.Sequential()\n",
    "\n",
    "model.add(layers.SimpleRNN(128))\n",
    "model.add(layers.Flatten())\n",
    "\n",
    "model.add(layers.Dense(128, activation='relu'))\n",
    "model.add(layers.Dense(64, activation='relu'))\n",
    "\n",
    "\n",
    "model.add(layers.Dense(10, activation='softmax'))\n",
    "\n",
    "# model.summary()\n",
    "model.compile(loss='sparse_categorical_crossentropy', optimizer=keras.optimizers.RMSprop(lr=2e-5), metrics=['acc'])"
   ]
  },
  {
   "cell_type": "code",
   "execution_count": 60,
   "metadata": {},
   "outputs": [
    {
     "name": "stdout",
     "output_type": "stream",
     "text": [
      "Epoch 1/10\n",
      "1500/1500 [==============================] - 7s 4ms/step - loss: 1.5261 - acc: 0.5117 - val_loss: 0.9706 - val_acc: 0.6987\n",
      "Epoch 2/10\n",
      "1500/1500 [==============================] - 6s 4ms/step - loss: 0.7905 - acc: 0.7504 - val_loss: 0.6010 - val_acc: 0.8173\n",
      "Epoch 3/10\n",
      "1500/1500 [==============================] - 6s 4ms/step - loss: 0.5375 - acc: 0.8343 - val_loss: 0.4389 - val_acc: 0.8686\n",
      "Epoch 4/10\n",
      "1500/1500 [==============================] - 6s 4ms/step - loss: 0.4148 - acc: 0.8756 - val_loss: 0.3555 - val_acc: 0.8939\n",
      "Epoch 5/10\n",
      "1500/1500 [==============================] - 6s 4ms/step - loss: 0.3483 - acc: 0.8967 - val_loss: 0.3068 - val_acc: 0.9062\n",
      "Epoch 6/10\n",
      "1500/1500 [==============================] - 6s 4ms/step - loss: 0.3071 - acc: 0.9087 - val_loss: 0.2767 - val_acc: 0.9151\n",
      "Epoch 7/10\n",
      "1500/1500 [==============================] - 6s 4ms/step - loss: 0.2781 - acc: 0.9170 - val_loss: 0.2518 - val_acc: 0.9214\n",
      "Epoch 8/10\n",
      "1500/1500 [==============================] - 6s 4ms/step - loss: 0.2556 - acc: 0.9234 - val_loss: 0.2355 - val_acc: 0.9276\n",
      "Epoch 9/10\n",
      "1500/1500 [==============================] - 6s 4ms/step - loss: 0.2375 - acc: 0.9290 - val_loss: 0.2187 - val_acc: 0.9333\n",
      "Epoch 10/10\n",
      "1500/1500 [==============================] - 6s 4ms/step - loss: 0.2223 - acc: 0.9333 - val_loss: 0.2057 - val_acc: 0.9374\n"
     ]
    },
    {
     "data": {
      "text/plain": [
       "<keras.callbacks.History at 0x28f55a320>"
      ]
     },
     "execution_count": 60,
     "metadata": {},
     "output_type": "execute_result"
    }
   ],
   "source": [
    "model.fit(x_train, y_train, epochs=10, batch_size=32, validation_split=0.2)"
   ]
  },
  {
   "cell_type": "code",
   "execution_count": 61,
   "metadata": {},
   "outputs": [
    {
     "name": "stdout",
     "output_type": "stream",
     "text": [
      "313/313 [==============================] - 1s 1ms/step - loss: 0.2066 - acc: 0.9386\n"
     ]
    },
    {
     "data": {
      "text/plain": [
       "[0.20661260187625885, 0.9386000037193298]"
      ]
     },
     "execution_count": 61,
     "metadata": {},
     "output_type": "execute_result"
    }
   ],
   "source": [
    "model.evaluate(x_test, y_test)"
   ]
  }
 ],
 "metadata": {
  "kernelspec": {
   "display_name": "Python 3.10.4 64-bit",
   "language": "python",
   "name": "python3"
  },
  "language_info": {
   "codemirror_mode": {
    "name": "ipython",
    "version": 3
   },
   "file_extension": ".py",
   "mimetype": "text/x-python",
   "name": "python",
   "nbconvert_exporter": "python",
   "pygments_lexer": "ipython3",
   "version": "3.10.4"
  },
  "orig_nbformat": 4,
  "vscode": {
   "interpreter": {
    "hash": "aee8b7b246df8f9039afb4144a1f6fd8d2ca17a180786b69acc140d282b71a49"
   }
  }
 },
 "nbformat": 4,
 "nbformat_minor": 2
}
